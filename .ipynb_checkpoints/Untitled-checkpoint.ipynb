{
 "cells": [
  {
   "cell_type": "code",
   "execution_count": 5,
   "metadata": {},
   "outputs": [
    {
     "name": "stdout",
     "output_type": "stream",
     "text": [
      "Requirement already satisfied: instauto in d:\\libraries\\python3.7.6\\lib\\site-packages (1.0.5)"
     ]
    },
    {
     "name": "stderr",
     "output_type": "stream",
     "text": [
      "WARNING: You are using pip version 19.2.3, however version 20.3.3 is available.\n",
      "You should consider upgrading via the 'python -m pip install --upgrade pip' command.\n"
     ]
    },
    {
     "name": "stdout",
     "output_type": "stream",
     "text": [
      "\n",
      "Requirement already satisfied: apscheduler in d:\\libraries\\python3.7.6\\lib\\site-packages (from instauto) (3.6.3)\n",
      "Requirement already satisfied: requests in d:\\libraries\\python3.7.6\\lib\\site-packages (from instauto) (2.24.0)\n",
      "Requirement already satisfied: pycryptodomex in d:\\libraries\\python3.7.6\\lib\\site-packages (from instauto) (3.9.9)\n",
      "Requirement already satisfied: imagesize in d:\\libraries\\python3.7.6\\lib\\site-packages (from instauto) (1.2.0)\n",
      "Requirement already satisfied: setuptools>=0.7 in d:\\libraries\\python3.7.6\\lib\\site-packages (from apscheduler->instauto) (41.2.0)\n",
      "Requirement already satisfied: tzlocal>=1.2 in d:\\libraries\\python3.7.6\\lib\\site-packages (from apscheduler->instauto) (2.1)\n",
      "Requirement already satisfied: pytz in d:\\libraries\\python3.7.6\\lib\\site-packages (from apscheduler->instauto) (2020.1)\n",
      "Requirement already satisfied: six>=1.4.0 in d:\\users\\ramiro\\appdata\\roaming\\python\\python37\\site-packages (from apscheduler->instauto) (1.15.0)\n",
      "Requirement already satisfied: urllib3!=1.25.0,!=1.25.1,<1.26,>=1.21.1 in d:\\libraries\\python3.7.6\\lib\\site-packages (from requests->instauto) (1.25.10)\n",
      "Requirement already satisfied: idna<3,>=2.5 in d:\\libraries\\python3.7.6\\lib\\site-packages (from requests->instauto) (2.10)\n",
      "Requirement already satisfied: certifi>=2017.4.17 in d:\\libraries\\python3.7.6\\lib\\site-packages (from requests->instauto) (2020.6.20)\n",
      "Requirement already satisfied: chardet<4,>=3.0.2 in d:\\libraries\\python3.7.6\\lib\\site-packages (from requests->instauto) (3.0.4)\n"
     ]
    }
   ],
   "source": [
    "!pip install instauto"
   ]
  },
  {
   "cell_type": "code",
   "execution_count": 10,
   "metadata": {},
   "outputs": [],
   "source": [
    "from instauto.api.client import ApiClient\n",
    "from instauto.api.actions import post as ps\n",
    "\n",
    "import json"
   ]
  },
  {
   "cell_type": "code",
   "execution_count": 13,
   "metadata": {},
   "outputs": [
    {
     "data": {
      "text/plain": [
       "{'username': 'inspiration__bot', 'password': 'Batuc4d@8'}"
      ]
     },
     "execution_count": 13,
     "metadata": {},
     "output_type": "execute_result"
    }
   ],
   "source": [
    "\n",
    "data={}\n",
    "\n",
    "with open('credentials.json') as json_file:\n",
    "    data = json.load(json_file)\n",
    "\n",
    "data"
   ]
  },
  {
   "cell_type": "code",
   "execution_count": 21,
   "metadata": {},
   "outputs": [],
   "source": [
    "    client = ApiClient(user_name=data[\"username\"], password= data[\"password\"])\n",
    "    client.login()\n",
    "    \n",
    "    like = ps.Like(\n",
    "        media_id=\"1734612737423614055_6400760974\"\n",
    "    )\n",
    "    lol=client.post_like(like)"
   ]
  },
  {
   "cell_type": "code",
   "execution_count": 25,
   "metadata": {},
   "outputs": [
    {
     "data": {
      "text/plain": [
       "requests.models.Response"
      ]
     },
     "execution_count": 25,
     "metadata": {},
     "output_type": "execute_result"
    }
   ],
   "source": [
    "type(lol)"
   ]
  },
  {
   "cell_type": "code",
   "execution_count": null,
   "metadata": {},
   "outputs": [],
   "source": []
  }
 ],
 "metadata": {
  "kernelspec": {
   "display_name": "Python 3",
   "language": "python",
   "name": "python3"
  },
  "language_info": {
   "codemirror_mode": {
    "name": "ipython",
    "version": 3
   },
   "file_extension": ".py",
   "mimetype": "text/x-python",
   "name": "python",
   "nbconvert_exporter": "python",
   "pygments_lexer": "ipython3",
   "version": "3.7.6"
  }
 },
 "nbformat": 4,
 "nbformat_minor": 4
}
